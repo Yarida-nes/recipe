{
  "nbformat": 4,
  "nbformat_minor": 0,
  "metadata": {
    "colab": {
      "provenance": [],
      "history_visible": true,
      "authorship_tag": "ABX9TyMA366G8hBxOiXnMmxMCqI/",
      "include_colab_link": true
    },
    "kernelspec": {
      "name": "python3",
      "display_name": "Python 3"
    },
    "language_info": {
      "name": "python"
    }
  },
  "cells": [
    {
      "cell_type": "markdown",
      "metadata": {
        "id": "view-in-github",
        "colab_type": "text"
      },
      "source": [
        "<a href=\"https://colab.research.google.com/github/Yarida-nes/recipe/blob/main/week%203.ipynb\" target=\"_parent\"><img src=\"https://colab.research.google.com/assets/colab-badge.svg\" alt=\"Open In Colab\"/></a>"
      ]
    },
    {
      "cell_type": "code",
      "source": [
        "# Displaying the weather menu options\n",
        "print(\"Weather Menu:\")\n",
        "print(\"1. Check Temperature\")\n",
        "print(\"2. Check Humidity\")\n",
        "print(\"3. Check Wind Speed\")\n",
        "print(\"4. Exit\")\n",
        "\"\"\"\n",
        "while True:\n",
        "  print(\"Weather Menu:\\n1. Check Temperature\\n2. Check Humidity\\n3. Check Wind Speed\\n4. Exit\")\n",
        "#Collecting user input for their choice\n",
        "\n",
        "# Prompting the user to enter their choice\n",
        "choice = input(\"Enter your choice (1-4): \")\n",
        "print(\"You selected option:\", choice)\n",
        "\"\"\"\n",
        "\n",
        "# Example of a simple decision structure based on the user's choice\n",
        "if choice == \"1\":\n",
        "    print(\"You chose to check the temperature.\")\n",
        "elif choice == \"2\":\n",
        "    print(\"You chose to check the humidity.\")\n",
        "elif choice == \"3\":\n",
        "    print(\"You chose to check the wind speed.\")\n",
        "elif choice == \"4\":\n",
        "    print(\"Exiting the program.\")\n",
        "    \"break\"\n",
        "else:\n",
        "    print(\"Invalid choice. Please select a valid option.\")\n"
      ],
      "metadata": {
        "colab": {
          "base_uri": "https://localhost:8080/"
        },
        "id": "0ZaqpmX8KBAK",
        "outputId": "4fbbd1d6-7367-4e63-c5fb-3b7614218a79"
      },
      "execution_count": 30,
      "outputs": [
        {
          "output_type": "stream",
          "name": "stdout",
          "text": [
            "Weather Menu:\n",
            "1. Check Temperature\n",
            "2. Check Humidity\n",
            "3. Check Wind Speed\n",
            "4. Exit\n",
            "You chose to check the wind speed.\n"
          ]
        }
      ]
    },
    {
      "cell_type": "code",
      "source": [
        "# For the purpose of this activity, we simulate a user choice.\n",
        "# In a complete program, you might capture this using input() from a menu.\n",
        "user_choice = \"1\"  # \"1\" corresponds to \"Check Temperature\"\n",
        "print(\"User selected option:\", user_choice)\n",
        "if user_choice == \"1\":\n",
        "    # Ask the user for the current temperature\n",
        "    temp_input = input(\"Enter the current temperature (in °C): \")\n",
        "\n",
        "    # Since we assume the user enters a valid number, convert the input into an integer.\n",
        "    # Remember: input() returns a string, so we use int() to convert it.\n",
        "    temperature = int(temp_input)\n",
        "\n",
        "    # Provide a weather forecast based on the temperature using nested if-else\n",
        "    if temperature < 15:\n",
        "        print(\"It's cold – wear a jacket!\")\n",
        "    elif 15 <= temperature < 25:\n",
        "        print(\"It's warm – enjoy the day!\")\n",
        "    else:\n",
        "        print(\"It's hot – stay cool!\")\n",
        "\n",
        "if temperature < 5:\n",
        "    print(\"It's freezing – bundle up!\")\n",
        "elif temperature < 15:\n",
        "    print(\"It's cold – wear a jacket!\")\n",
        "elif 15 <= temperature < 25:\n",
        "    print(\"It's warm – enjoy the day!\")\n",
        "else:\n",
        "    print(\"It's hot – stay cool!\")"
      ],
      "metadata": {
        "colab": {
          "base_uri": "https://localhost:8080/"
        },
        "id": "HuQoPSZdMejb",
        "outputId": "a688546f-15b0-4ab1-b16e-f743ce69e747"
      },
      "execution_count": 29,
      "outputs": [
        {
          "output_type": "stream",
          "name": "stdout",
          "text": [
            "User selected option: 1\n",
            "Enter the current temperature (in °C): 2\n",
            "It's cold – wear a jacket!\n",
            "It's freezing – bundle up!\n"
          ]
        }
      ]
    },
    {
      "cell_type": "code",
      "source": [
        "if user_choice == \"2\":\n",
        "    temp_input = input(\"Enter check the humidity (in °C): \")\n",
        "    # Check if the input is numeric:\n",
        "    # For negative numbers, check if the string starts with '-' and the rest is numeric.\n",
        "    if temp_input.isdigit() or (temp_input.startswith('-') and temp_input[15:].isdigit()):\n",
        "        temperature = int(temp_input)\n",
        "        if temperature < 5:\n",
        "            print(\"It's freezing – bundle up!\")\n",
        "        elif temperature < 15:\n",
        "            print(\"It's cold – wear a jacket!\")\n",
        "        elif temperature < 25:\n",
        "            print(\"It's warm – enjoy the day!\")\n",
        "        else:\n",
        "            print(\"It's hot – stay cool!\")\n",
        "    else:\n",
        "        print(\"Invalid input. Please enter a numeric temperature.\")"
      ],
      "metadata": {
        "id": "9I_1r6Q-VUKQ"
      },
      "execution_count": 28,
      "outputs": []
    },
    {
      "cell_type": "code",
      "source": [
        "# Display the Weather Menu\n",
        "print(\"Weather Menu:\")\n",
        "print(\"1. Check Temperature\")\n",
        "print(\"2. Check Humidity\")\n",
        "print(\"3. Check Wind Speed\")\n",
        "print(\"4. Exit\")\n",
        "\n",
        "# Capture the user's menu selection\n",
        "choice = input(\"Enter your choice (1-4): \")\n",
        "\n",
        "# Process the user's selection\n",
        "if choice == \"1\":\n",
        "    # Check Temperature\n",
        "    temp_input = input(\"Enter the current temperature (in °C): \")\n",
        "    if temp_input.isdigit() or (temp_input.startswith('-') and temp_input[1:].isdigit()):\n",
        "        temperature = int(temp_input)\n",
        "        if temperature < 15:\n",
        "            print(\"It’s cold – expect a chilly day.\")\n",
        "        elif temperature < 25:\n",
        "            print(\"It’s a pleasant day.\")\n",
        "        else:\n",
        "            print(\"It’s hot – stay cool!\")\n",
        "    else:\n",
        "        print(\"Invalid input. Please enter a numeric temperature.\")\n",
        "elif choice == \"2\":\n",
        "    # Check Humidity\n",
        "    humidity_input = input(\"Enter the current humidity (in %): \")\n",
        "    # You can add similar logic for humidity here.\n",
        "    print(\"Humidity functionality coming soon!\")\n",
        "elif choice == \"3\":\n",
        "    # Check Wind Speed\n",
        "    wind_input = input(\"Enter the current wind speed (in km/h): \")\n",
        "    # You can add similar logic for wind speed here.\n",
        "    print(\"Wind speed functionality coming soon!\")\n",
        "elif choice == \"4\":\n",
        "    print(\"Exiting the program. Have a great day!\")\n",
        "else:\n",
        "    print(\"Invalid choice. Please select a valid option.\")"
      ],
      "metadata": {
        "id": "0TI_zfWxWZ1t",
        "outputId": "ff4210ba-874f-4f2e-c6cf-852d1af84e94",
        "colab": {
          "base_uri": "https://localhost:8080/"
        }
      },
      "execution_count": 32,
      "outputs": [
        {
          "output_type": "stream",
          "name": "stdout",
          "text": [
            "Weather Menu:\n",
            "1. Check Temperature\n",
            "2. Check Humidity\n",
            "3. Check Wind Speed\n",
            "4. Exit\n",
            "Enter your choice (1-4): 2\n",
            "Enter the current humidity (in %): 20\n",
            "Humidity functionality coming soon!\n"
          ]
        }
      ]
    }
  ]
}